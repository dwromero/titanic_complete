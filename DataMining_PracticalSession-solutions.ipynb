{
 "cells": [
  {
   "cell_type": "markdown",
   "id": "1429b32d-e55d-406e-a78c-51a2b6bc2f11",
   "metadata": {},
   "source": [
    "## Data Mining - Practical Session\n",
    "\n",
    "In this session you will be taken trhough the process of training a machine learning model to predict whether persons died in the Titanic cathastrophy. \n",
    "\n",
    "To this end, we will undergo the following steps:\n",
    "* Load the data\n",
    "* Explore the data\n",
    "* Pre-process the data\n",
    "* Define and gather interesting features\n",
    "* Create a machine learning model\n",
    "* Train it\n",
    "* Evaluate it\n",
    "\n",
    "Let's get to it! "
   ]
  },
  {
   "cell_type": "markdown",
   "id": "fe3c11f3-a469-4277-82b6-69cffe090224",
   "metadata": {},
   "source": [
    "#### 1. Load The Data\n",
    "\n",
    "First, we'll load the data."
   ]
  },
  {
   "cell_type": "code",
   "execution_count": 65,
   "id": "d930639b-08b4-481e-b7b1-afd840a01067",
   "metadata": {},
   "outputs": [],
   "source": [
    "# Import packages\n",
    "import numpy as np # linear algebra\n",
    "import pandas as pd # data processing, CSV file I/O (e.g. pd.read_csv)\n",
    "import matplotlib.pyplot as plt # plotting library\n",
    "\n",
    "import warnings\n",
    "warnings.filterwarnings('ignore')"
   ]
  },
  {
   "cell_type": "code",
   "execution_count": 2,
   "id": "466a748a-5bba-4826-81ed-2fc8be31eb45",
   "metadata": {},
   "outputs": [
    {
     "data": {
      "text/html": [
       "<div>\n",
       "<style scoped>\n",
       "    .dataframe tbody tr th:only-of-type {\n",
       "        vertical-align: middle;\n",
       "    }\n",
       "\n",
       "    .dataframe tbody tr th {\n",
       "        vertical-align: top;\n",
       "    }\n",
       "\n",
       "    .dataframe thead th {\n",
       "        text-align: right;\n",
       "    }\n",
       "</style>\n",
       "<table border=\"1\" class=\"dataframe\">\n",
       "  <thead>\n",
       "    <tr style=\"text-align: right;\">\n",
       "      <th></th>\n",
       "      <th>PassengerId</th>\n",
       "      <th>Survived</th>\n",
       "      <th>Pclass</th>\n",
       "      <th>Name</th>\n",
       "      <th>Sex</th>\n",
       "      <th>Age</th>\n",
       "      <th>SibSp</th>\n",
       "      <th>Parch</th>\n",
       "      <th>Ticket</th>\n",
       "      <th>Fare</th>\n",
       "      <th>Cabin</th>\n",
       "      <th>Embarked</th>\n",
       "    </tr>\n",
       "  </thead>\n",
       "  <tbody>\n",
       "    <tr>\n",
       "      <th>0</th>\n",
       "      <td>1</td>\n",
       "      <td>0</td>\n",
       "      <td>3</td>\n",
       "      <td>Braund, Mr. Owen Harris</td>\n",
       "      <td>male</td>\n",
       "      <td>22.0</td>\n",
       "      <td>1</td>\n",
       "      <td>0</td>\n",
       "      <td>A/5 21171</td>\n",
       "      <td>7.2500</td>\n",
       "      <td>NaN</td>\n",
       "      <td>S</td>\n",
       "    </tr>\n",
       "    <tr>\n",
       "      <th>1</th>\n",
       "      <td>2</td>\n",
       "      <td>1</td>\n",
       "      <td>1</td>\n",
       "      <td>Cumings, Mrs. John Bradley (Florence Briggs Th...</td>\n",
       "      <td>female</td>\n",
       "      <td>38.0</td>\n",
       "      <td>1</td>\n",
       "      <td>0</td>\n",
       "      <td>PC 17599</td>\n",
       "      <td>71.2833</td>\n",
       "      <td>C85</td>\n",
       "      <td>C</td>\n",
       "    </tr>\n",
       "    <tr>\n",
       "      <th>2</th>\n",
       "      <td>3</td>\n",
       "      <td>1</td>\n",
       "      <td>3</td>\n",
       "      <td>Heikkinen, Miss. Laina</td>\n",
       "      <td>female</td>\n",
       "      <td>26.0</td>\n",
       "      <td>0</td>\n",
       "      <td>0</td>\n",
       "      <td>STON/O2. 3101282</td>\n",
       "      <td>7.9250</td>\n",
       "      <td>NaN</td>\n",
       "      <td>S</td>\n",
       "    </tr>\n",
       "    <tr>\n",
       "      <th>3</th>\n",
       "      <td>4</td>\n",
       "      <td>1</td>\n",
       "      <td>1</td>\n",
       "      <td>Futrelle, Mrs. Jacques Heath (Lily May Peel)</td>\n",
       "      <td>female</td>\n",
       "      <td>35.0</td>\n",
       "      <td>1</td>\n",
       "      <td>0</td>\n",
       "      <td>113803</td>\n",
       "      <td>53.1000</td>\n",
       "      <td>C123</td>\n",
       "      <td>S</td>\n",
       "    </tr>\n",
       "    <tr>\n",
       "      <th>4</th>\n",
       "      <td>5</td>\n",
       "      <td>0</td>\n",
       "      <td>3</td>\n",
       "      <td>Allen, Mr. William Henry</td>\n",
       "      <td>male</td>\n",
       "      <td>35.0</td>\n",
       "      <td>0</td>\n",
       "      <td>0</td>\n",
       "      <td>373450</td>\n",
       "      <td>8.0500</td>\n",
       "      <td>NaN</td>\n",
       "      <td>S</td>\n",
       "    </tr>\n",
       "  </tbody>\n",
       "</table>\n",
       "</div>"
      ],
      "text/plain": [
       "   PassengerId  Survived  Pclass  \\\n",
       "0            1         0       3   \n",
       "1            2         1       1   \n",
       "2            3         1       3   \n",
       "3            4         1       1   \n",
       "4            5         0       3   \n",
       "\n",
       "                                                Name     Sex   Age  SibSp  \\\n",
       "0                            Braund, Mr. Owen Harris    male  22.0      1   \n",
       "1  Cumings, Mrs. John Bradley (Florence Briggs Th...  female  38.0      1   \n",
       "2                             Heikkinen, Miss. Laina  female  26.0      0   \n",
       "3       Futrelle, Mrs. Jacques Heath (Lily May Peel)  female  35.0      1   \n",
       "4                           Allen, Mr. William Henry    male  35.0      0   \n",
       "\n",
       "   Parch            Ticket     Fare Cabin Embarked  \n",
       "0      0         A/5 21171   7.2500   NaN        S  \n",
       "1      0          PC 17599  71.2833   C85        C  \n",
       "2      0  STON/O2. 3101282   7.9250   NaN        S  \n",
       "3      0            113803  53.1000  C123        S  \n",
       "4      0            373450   8.0500   NaN        S  "
      ]
     },
     "execution_count": 2,
     "metadata": {},
     "output_type": "execute_result"
    }
   ],
   "source": [
    "# Get the data\n",
    "# Important! Remeber to put the data ('train.csv', 'test.csv')\n",
    "# in this folder\n",
    "\n",
    "# Training data\n",
    "train_data = pd.read_csv(\"data/train.csv\") # Load the data\n",
    "train_data.head() # Visualize first rows. "
   ]
  },
  {
   "cell_type": "code",
   "execution_count": 3,
   "id": "e80e1be2-311f-4957-9c5f-1ac9d3fa23ac",
   "metadata": {},
   "outputs": [
    {
     "data": {
      "text/html": [
       "<div>\n",
       "<style scoped>\n",
       "    .dataframe tbody tr th:only-of-type {\n",
       "        vertical-align: middle;\n",
       "    }\n",
       "\n",
       "    .dataframe tbody tr th {\n",
       "        vertical-align: top;\n",
       "    }\n",
       "\n",
       "    .dataframe thead th {\n",
       "        text-align: right;\n",
       "    }\n",
       "</style>\n",
       "<table border=\"1\" class=\"dataframe\">\n",
       "  <thead>\n",
       "    <tr style=\"text-align: right;\">\n",
       "      <th></th>\n",
       "      <th>PassengerId</th>\n",
       "      <th>Pclass</th>\n",
       "      <th>Name</th>\n",
       "      <th>Sex</th>\n",
       "      <th>Age</th>\n",
       "      <th>SibSp</th>\n",
       "      <th>Parch</th>\n",
       "      <th>Ticket</th>\n",
       "      <th>Fare</th>\n",
       "      <th>Cabin</th>\n",
       "      <th>Embarked</th>\n",
       "    </tr>\n",
       "  </thead>\n",
       "  <tbody>\n",
       "    <tr>\n",
       "      <th>0</th>\n",
       "      <td>892</td>\n",
       "      <td>3</td>\n",
       "      <td>Kelly, Mr. James</td>\n",
       "      <td>male</td>\n",
       "      <td>34.5</td>\n",
       "      <td>0</td>\n",
       "      <td>0</td>\n",
       "      <td>330911</td>\n",
       "      <td>7.8292</td>\n",
       "      <td>NaN</td>\n",
       "      <td>Q</td>\n",
       "    </tr>\n",
       "    <tr>\n",
       "      <th>1</th>\n",
       "      <td>893</td>\n",
       "      <td>3</td>\n",
       "      <td>Wilkes, Mrs. James (Ellen Needs)</td>\n",
       "      <td>female</td>\n",
       "      <td>47.0</td>\n",
       "      <td>1</td>\n",
       "      <td>0</td>\n",
       "      <td>363272</td>\n",
       "      <td>7.0000</td>\n",
       "      <td>NaN</td>\n",
       "      <td>S</td>\n",
       "    </tr>\n",
       "    <tr>\n",
       "      <th>2</th>\n",
       "      <td>894</td>\n",
       "      <td>2</td>\n",
       "      <td>Myles, Mr. Thomas Francis</td>\n",
       "      <td>male</td>\n",
       "      <td>62.0</td>\n",
       "      <td>0</td>\n",
       "      <td>0</td>\n",
       "      <td>240276</td>\n",
       "      <td>9.6875</td>\n",
       "      <td>NaN</td>\n",
       "      <td>Q</td>\n",
       "    </tr>\n",
       "    <tr>\n",
       "      <th>3</th>\n",
       "      <td>895</td>\n",
       "      <td>3</td>\n",
       "      <td>Wirz, Mr. Albert</td>\n",
       "      <td>male</td>\n",
       "      <td>27.0</td>\n",
       "      <td>0</td>\n",
       "      <td>0</td>\n",
       "      <td>315154</td>\n",
       "      <td>8.6625</td>\n",
       "      <td>NaN</td>\n",
       "      <td>S</td>\n",
       "    </tr>\n",
       "    <tr>\n",
       "      <th>4</th>\n",
       "      <td>896</td>\n",
       "      <td>3</td>\n",
       "      <td>Hirvonen, Mrs. Alexander (Helga E Lindqvist)</td>\n",
       "      <td>female</td>\n",
       "      <td>22.0</td>\n",
       "      <td>1</td>\n",
       "      <td>1</td>\n",
       "      <td>3101298</td>\n",
       "      <td>12.2875</td>\n",
       "      <td>NaN</td>\n",
       "      <td>S</td>\n",
       "    </tr>\n",
       "  </tbody>\n",
       "</table>\n",
       "</div>"
      ],
      "text/plain": [
       "   PassengerId  Pclass                                          Name     Sex  \\\n",
       "0          892       3                              Kelly, Mr. James    male   \n",
       "1          893       3              Wilkes, Mrs. James (Ellen Needs)  female   \n",
       "2          894       2                     Myles, Mr. Thomas Francis    male   \n",
       "3          895       3                              Wirz, Mr. Albert    male   \n",
       "4          896       3  Hirvonen, Mrs. Alexander (Helga E Lindqvist)  female   \n",
       "\n",
       "    Age  SibSp  Parch   Ticket     Fare Cabin Embarked  \n",
       "0  34.5      0      0   330911   7.8292   NaN        Q  \n",
       "1  47.0      1      0   363272   7.0000   NaN        S  \n",
       "2  62.0      0      0   240276   9.6875   NaN        Q  \n",
       "3  27.0      0      0   315154   8.6625   NaN        S  \n",
       "4  22.0      1      1  3101298  12.2875   NaN        S  "
      ]
     },
     "execution_count": 3,
     "metadata": {},
     "output_type": "execute_result"
    }
   ],
   "source": [
    "# Test data\n",
    "test_data = pd.read_csv(\"data/test.csv\")\n",
    "test_data.head()"
   ]
  },
  {
   "cell_type": "markdown",
   "id": "25fb5cf5-9989-4e69-a65c-4cbf8e35b106",
   "metadata": {},
   "source": [
    "Voila, the data is now loaded! \n",
    "\n",
    "**Question 1: How big are the datasets?**"
   ]
  },
  {
   "cell_type": "code",
   "execution_count": 4,
   "id": "2701907a-9a45-4aa7-8706-65480b745b7a",
   "metadata": {},
   "outputs": [
    {
     "name": "stdout",
     "output_type": "stream",
     "text": [
      "The training and test data are respectively of size 891 and 418.\n"
     ]
    }
   ],
   "source": [
    "# Answer here\n",
    "length_train_data = 0\n",
    "length_test_data = 0\n",
    "\n",
    "length_train_data = len(train_data)\n",
    "length_test_data = len(test_data)\n",
    "\n",
    "print(f\"The training and test data are respectively of size {length_train_data} and {length_test_data}.\")"
   ]
  },
  {
   "cell_type": "markdown",
   "id": "d0ff2381-d63c-4e02-b669-a918747f3889",
   "metadata": {},
   "source": [
    "#### 2. Explore The Data\n",
    "\n",
    "Now the data is loaded, we can start to play with it. Let's explore the data and understand what is being saved."
   ]
  },
  {
   "cell_type": "markdown",
   "id": "2af3d764-1375-4ed4-b208-46e82033990b",
   "metadata": {},
   "source": [
    "**Question 2: What features do we have in the dataset?**<br>\n",
    "(Hint) Use google to figure out what they mean"
   ]
  },
  {
   "cell_type": "raw",
   "id": "2ca3bc32-2ce9-4896-9fae-04208ce5e8a5",
   "metadata": {},
   "source": [
    "# Answer here:\n",
    "\n"
   ]
  },
  {
   "cell_type": "markdown",
   "id": "3b5deede-aede-4c4f-968f-3f784cfd1176",
   "metadata": {},
   "source": [
    "#### 2.1. Explore The Data - Plot Interesting Relationships\n",
    "\n",
    "As we saw in the first part of the lecture (and the film), correlations can be used to predict the probability of a certain person surviving the accident.\n",
    "\n",
    "For instance, in the movie we saw that women and children were allowed to go first in the saving boats, but... was this really the case? **Let's figure it out!**"
   ]
  },
  {
   "cell_type": "code",
   "execution_count": 5,
   "id": "16a24ab0-fe9a-4df0-8916-52a17e6dbad0",
   "metadata": {},
   "outputs": [
    {
     "data": {
      "image/png": "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\n",
      "text/plain": [
       "<Figure size 432x288 with 1 Axes>"
      ]
     },
     "metadata": {
      "needs_background": "light"
     },
     "output_type": "display_data"
    },
    {
     "name": "stdout",
     "output_type": "stream",
     "text": [
      "% of women who survived: 0.7420382165605095\n"
     ]
    }
   ],
   "source": [
    "# What's the percentage of women surviving the accident? \n",
    "\n",
    "# locate in the train data rows whose sex is female,\n",
    "# and then filter the column 'Survived'\n",
    "women = train_data.loc[train_data.Sex == 'female'][\"Survived\"] \n",
    "\n",
    "# Statistics of women\n",
    "women_hist_data = women.copy()\n",
    "women_hist_data = women_hist_data.replace(0, 'no_survived')\n",
    "women_hist_data = women_hist_data.replace(1, 'survived')\n",
    "\n",
    "# plot in a a histogram\n",
    "plt.figure()\n",
    "plt.hist([women_hist_data], align=('mid'))\n",
    "plt.ylabel('Number of survivors')\n",
    "plt.show()\n",
    "\n",
    "# Get the rate of women that survived\n",
    "print(\"% of women who survived:\", sum(women)/len(women))"
   ]
  },
  {
   "cell_type": "markdown",
   "id": "874ffcc7-c3bf-412c-9226-9961b9e2e68c",
   "metadata": {},
   "source": [
    "It seems that indeed most of the women survived.\n",
    "\n",
    "**Question 3: Repeat the same procedure for children, i.e., people with age <= 18.**"
   ]
  },
  {
   "cell_type": "code",
   "execution_count": 6,
   "id": "9d977357-9c29-4917-85eb-21e44079ca2b",
   "metadata": {},
   "outputs": [
    {
     "data": {
      "image/png": "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\n",
      "text/plain": [
       "<Figure size 432x288 with 1 Axes>"
      ]
     },
     "metadata": {
      "needs_background": "light"
     },
     "output_type": "display_data"
    },
    {
     "name": "stdout",
     "output_type": "stream",
     "text": [
      "% of children who survived: 0.5035971223021583\n"
     ]
    }
   ],
   "source": [
    "# get children\n",
    "children = train_data.loc[train_data.Age <= 18]['Survived']\n",
    "\n",
    "# Statistics of children\n",
    "children_hist_data = children.copy()\n",
    "children_hist_data = children_hist_data.replace(0, 'no_survived')\n",
    "children_hist_data = children_hist_data.replace(1, 'survived')\n",
    "\n",
    "# plot in a a histogram\n",
    "plt.figure()\n",
    "plt.hist([children_hist_data], align=('mid'))\n",
    "plt.ylabel('Number of survivors')\n",
    "plt.show()\n",
    "\n",
    "# Get the rate of women that survived\n",
    "print(\"% of children who survived:\", sum(children)/len(children))\n"
   ]
  },
  {
   "cell_type": "markdown",
   "id": "d5d31d94-1db9-40f3-a6c3-02168e0fb669",
   "metadata": {},
   "source": [
    "Oh... apparently, it was not advantageous to be a child during the accident.<br>\n",
    "Maybe was it due to the amount of money they paid for the rid? Let's check that out."
   ]
  },
  {
   "cell_type": "code",
   "execution_count": 7,
   "id": "e82d7b05-171d-468c-bb52-6a2437db14c4",
   "metadata": {},
   "outputs": [
    {
     "name": "stdout",
     "output_type": "stream",
     "text": [
      "139\n",
      "70\n"
     ]
    },
    {
     "data": {
      "image/png": "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\n",
      "text/plain": [
       "<Figure size 432x288 with 1 Axes>"
      ]
     },
     "metadata": {
      "needs_background": "light"
     },
     "output_type": "display_data"
    }
   ],
   "source": [
    "#Let's divide the children in two equal groups. \n",
    "# 1st. The helft with the lowest ticket price\n",
    "# 2nd. The helft with the highest ticket price\n",
    "\n",
    "print(len(train_data.loc[train_data.Age <= 18]['Survived'])) #Total # children\n",
    "print(len(train_data.loc[train_data.Age <= 18].loc[train_data.Fare <= 20.5])) # Fare of 20.5 separates the groups in half.\n",
    "\n",
    "poor_children = train_data.loc[train_data.Age <= 18].loc[train_data.Fare <= 20.5]['Survived']\n",
    "poor_children = poor_children.replace(0, 'no_survived')\n",
    "poor_children = poor_children.replace(1, 'survived')\n",
    "\n",
    "rich_children = train_data.loc[train_data.Age <= 18].loc[train_data.Fare > 20.5]['Survived']\n",
    "rich_children = rich_children.replace(0, 'no_survived')\n",
    "rich_children = rich_children.replace(1, 'survived')\n",
    "\n",
    "# plot in a a histogram\n",
    "plt.figure()\n",
    "plt.hist([poor_children, rich_children], align=('mid'), label=['poor', 'rich'])\n",
    "plt.ylabel('Number of survivors')\n",
    "plt.legend()\n",
    "plt.show()"
   ]
  },
  {
   "cell_type": "markdown",
   "id": "0efed0b4-79d6-4074-986f-7417f6d76e9b",
   "metadata": {},
   "source": [
    "Apparently, it does not lie on the ticket fare. Perhaps it was due to the extreme weather."
   ]
  },
  {
   "cell_type": "markdown",
   "id": "a42f89c8-2e37-4698-8d3b-0e7fafa4a9af",
   "metadata": {},
   "source": [
    "**Question 4: Which properties are relevant to predict survival?**<br>\n",
    "Now, we leave it up to you, what features do you think can be used as good predictors for the survival of passengers? \n",
    "\n",
    "Here we provide an example based on the sex:"
   ]
  },
  {
   "cell_type": "code",
   "execution_count": 8,
   "id": "dbf3a75e-ed92-4621-a421-268f372ade4b",
   "metadata": {},
   "outputs": [
    {
     "name": "stdout",
     "output_type": "stream",
     "text": [
      "139\n",
      "70\n"
     ]
    },
    {
     "data": {
      "image/png": "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\n",
      "text/plain": [
       "<Figure size 432x288 with 1 Axes>"
      ]
     },
     "metadata": {
      "needs_background": "light"
     },
     "output_type": "display_data"
    }
   ],
   "source": [
    "#Let's divide the passengers by sex. \n",
    "print(len(train_data.loc[train_data.Age <= 18]['Survived'])) #Total # children\n",
    "print(len(train_data.loc[train_data.Age <= 18].loc[train_data.Fare <= 20.5])) # Fare of 20.5 separates the groups in half.\n",
    "\n",
    "women = train_data.loc[train_data.Sex == 'female'][\"Survived\"]\n",
    "women = women.replace(0, 'no_survived')\n",
    "women = women.replace(1, 'survived')\n",
    "\n",
    "men = train_data.loc[train_data.Sex == 'male'][\"Survived\"]\n",
    "men = men.replace(0, 'no_survived')\n",
    "men = men.replace(1, 'survived')\n",
    "\n",
    "# plot in a a histogram\n",
    "plt.figure()\n",
    "plt.hist([women, men], align=('mid'), label=['women', 'men'])\n",
    "plt.ylabel('Number of survivors')\n",
    "plt.legend()\n",
    "plt.show()"
   ]
  },
  {
   "cell_type": "code",
   "execution_count": 9,
   "id": "fe11cdc4-4062-4451-bcbc-19834f5bdff7",
   "metadata": {},
   "outputs": [],
   "source": [
    "# answer here:\n",
    "\n"
   ]
  },
  {
   "cell_type": "markdown",
   "id": "77dcaa6a-2a4b-4c82-ba67-824ebe0b8713",
   "metadata": {},
   "source": [
    "#### 3. Pre-process the Data\n",
    "\n",
    "#### 3.1. Missing values\n",
    "\n",
    "Unfortunately, the data we are provided is often not perfect. For instance, the dataset contains several 'NaN's (not-a-number) or missing values: "
   ]
  },
  {
   "cell_type": "code",
   "execution_count": 10,
   "id": "175492e9-0f3c-4ecb-8ae6-98ad871bb6ee",
   "metadata": {},
   "outputs": [
    {
     "data": {
      "text/plain": [
       "PassengerId      0\n",
       "Survived         0\n",
       "Pclass           0\n",
       "Name             0\n",
       "Sex              0\n",
       "Age            177\n",
       "SibSp            0\n",
       "Parch            0\n",
       "Ticket           0\n",
       "Fare             0\n",
       "Cabin          687\n",
       "Embarked         2\n",
       "dtype: int64"
      ]
     },
     "execution_count": 10,
     "metadata": {},
     "output_type": "execute_result"
    }
   ],
   "source": [
    "train_data.isna().sum() # Isna() provides a True if the value is a NaN. With the sum function, we get the total per feature of these values."
   ]
  },
  {
   "cell_type": "markdown",
   "id": "5cae0f1c-2b86-4719-b116-54175e477437",
   "metadata": {},
   "source": [
    "#### 3.2. Outliers\n",
    "Furthermore, it can often be the case that several values are not reasonable. So called outliers. This is also something we need to deal with.\n",
    "\n",
    "For instance, let's look at the values in the Fare features:"
   ]
  },
  {
   "cell_type": "code",
   "execution_count": 11,
   "id": "d6c9b7f4-cdf8-4530-9cbd-2bb147de4d32",
   "metadata": {},
   "outputs": [
    {
     "data": {
      "image/png": "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\n",
      "text/plain": [
       "<Figure size 432x288 with 1 Axes>"
      ]
     },
     "metadata": {
      "needs_background": "light"
     },
     "output_type": "display_data"
    }
   ],
   "source": [
    "# plot in a a histogram\n",
    "plt.figure()\n",
    "plt.hist([train_data.Fare], align=('mid'))\n",
    "plt.ylabel('Number of passengers')\n",
    "plt.show()"
   ]
  },
  {
   "cell_type": "markdown",
   "id": "8160ece5-11c3-4dd5-97c5-fd58fd58bec7",
   "metadata": {},
   "source": [
    "There seems to be some odd fares (~500). This can be repared by setting it to a maximum based on the statistics of the dataset.\n",
    "\n",
    "In this session, we won't go deeper into handling outliers of this kind. However, we want you to be aware of their existence :) "
   ]
  },
  {
   "cell_type": "markdown",
   "id": "1d3a4531-67e0-44ec-8ba1-4457bb85318e",
   "metadata": {},
   "source": [
    "#### 3.3. Imputting missing data\n",
    "\n",
    "Now, we will look at how to handle missing data.\n",
    "\n",
    "**Question 5. What do you think is a good idea to this end?**"
   ]
  },
  {
   "cell_type": "raw",
   "id": "276315aa-8848-4b72-98bd-2e54aa796c50",
   "metadata": {},
   "source": [
    "# Write your answer here. "
   ]
  },
  {
   "cell_type": "markdown",
   "id": "d7ad2176-fa26-44c7-922f-32ef1e53343f",
   "metadata": {},
   "source": [
    "**Spoiler Alert!!!! Do not read this further before answering the previous question.**\n",
    "\n",
    "There are several ways to solving this problem. We organize them here in terms of their benefits:\n",
    "* 1. Rely on information from additional sources to impute the data, e.g., Google. \n",
    "* 2. If no information is found, we can then rely on correlations among features to impute the data. For instance, we can rely on the Title and the place of boarding of a person to infer the cost of his ticket. \n",
    "* 3. If no relationships can be found, from an statistical perspective, the best option is to impute these values as the mean of the corresponding feature. For instance, assign the mean of the Age feature in the dataset to all missing values.\n",
    "* 4. Delete features or data points with missing information. This method is **strongly discouraged** as it might delete a lot of information which may be useful for training. Only use in cases in which the imputation might produce more harm than benefits.\n",
    "\n",
    "Let's try to assess correlations to impute missing values in our dataset:\n",
    "\n",
    "**Important! Any value computation done on the test set must be solely computed based on information from the training set. Remember, in real life, you do not have the test set.**"
   ]
  },
  {
   "cell_type": "code",
   "execution_count": 12,
   "id": "fa5cf803-b7f2-4d51-854d-50da6e077095",
   "metadata": {},
   "outputs": [
    {
     "name": "stdout",
     "output_type": "stream",
     "text": [
      "Train data:\n",
      " PassengerId      0\n",
      "Survived         0\n",
      "Pclass           0\n",
      "Name             0\n",
      "Sex              0\n",
      "Age            177\n",
      "SibSp            0\n",
      "Parch            0\n",
      "Ticket           0\n",
      "Fare             0\n",
      "Cabin          687\n",
      "Embarked         2\n",
      "dtype: int64 \n",
      " \n",
      "Dataset length:891 \n",
      "\n",
      "Test data:\n",
      " PassengerId      0\n",
      "Pclass           0\n",
      "Name             0\n",
      "Sex              0\n",
      "Age             86\n",
      "SibSp            0\n",
      "Parch            0\n",
      "Ticket           0\n",
      "Fare             1\n",
      "Cabin          327\n",
      "Embarked         0\n",
      "dtype: int64 \n",
      "Dataset length:418 \n",
      "\n"
     ]
    }
   ],
   "source": [
    "print('Train data:\\n', train_data.isna().sum(), '\\n', f'\\nDataset length:{len(train_data)} \\n') # Isna() provides a True if the value is a NaN. With the sum function, we get the total per feature of these values.\n",
    "print('Test data:\\n', test_data.isna().sum(), f'\\nDataset length:{len(test_data)} \\n') # Isna() provides a True if the value is a NaN. With the sum function, we get the total per feature of these values."
   ]
  },
  {
   "cell_type": "markdown",
   "id": "c11ebf5e-ff27-45b2-a7d0-9ae8a24ebc10",
   "metadata": {},
   "source": [
    "Note that the Cabin feature is missing almost everywhere (687 / 891 = 77.1% of the dataset). In such cases, it is a good idea to simply delete the feature. It is a pitty but imputing 77% of the dataset certainly calls into questioning its predictive power. "
   ]
  },
  {
   "cell_type": "code",
   "execution_count": 20,
   "id": "4834cc9f-62f1-4c82-9c11-b4683390dc4b",
   "metadata": {},
   "outputs": [
    {
     "name": "stdout",
     "output_type": "stream",
     "text": [
      "PassengerId      0\n",
      "Survived         0\n",
      "Pclass           0\n",
      "Name             0\n",
      "Sex              0\n",
      "Age            177\n",
      "SibSp            0\n",
      "Parch            0\n",
      "Ticket           0\n",
      "Fare             0\n",
      "Embarked         2\n",
      "dtype: int64\n"
     ]
    }
   ],
   "source": [
    "imputed_train_data = train_data.drop(columns=['Cabin'])\n",
    "print(imputed_train_data.isna().sum())"
   ]
  },
  {
   "cell_type": "markdown",
   "id": "948476f4-93ae-4350-a60c-fa90fa6ca7e7",
   "metadata": {},
   "source": [
    "#### 3.3.1 Imputing 'Embarked'\n",
    "\n",
    "We propose to impute the Embarked based on the Fare. To this end, we look at the mean Fare of people entering at each of the ports and use that value to impute the value of Embarked for the unknown persons:"
   ]
  },
  {
   "cell_type": "code",
   "execution_count": 33,
   "id": "b02c14f9-1b55-4b77-bb7d-fe835d37a537",
   "metadata": {},
   "outputs": [
    {
     "name": "stdout",
     "output_type": "stream",
     "text": [
      "Sites of embarking: ['S' 'C' 'Q']\n",
      "Mean Fare for people entering at 'S': 27.079811801242233\n",
      "Mean Fare for people entering at 'C': 59.95414404761905\n",
      "Mean Fare for people entering at 'Q': 13.276029870129872\n"
     ]
    },
    {
     "data": {
      "text/html": [
       "<div>\n",
       "<style scoped>\n",
       "    .dataframe tbody tr th:only-of-type {\n",
       "        vertical-align: middle;\n",
       "    }\n",
       "\n",
       "    .dataframe tbody tr th {\n",
       "        vertical-align: top;\n",
       "    }\n",
       "\n",
       "    .dataframe thead th {\n",
       "        text-align: right;\n",
       "    }\n",
       "</style>\n",
       "<table border=\"1\" class=\"dataframe\">\n",
       "  <thead>\n",
       "    <tr style=\"text-align: right;\">\n",
       "      <th></th>\n",
       "      <th>PassengerId</th>\n",
       "      <th>Survived</th>\n",
       "      <th>Pclass</th>\n",
       "      <th>Name</th>\n",
       "      <th>Sex</th>\n",
       "      <th>Age</th>\n",
       "      <th>SibSp</th>\n",
       "      <th>Parch</th>\n",
       "      <th>Ticket</th>\n",
       "      <th>Fare</th>\n",
       "      <th>Cabin</th>\n",
       "      <th>Embarked</th>\n",
       "    </tr>\n",
       "  </thead>\n",
       "  <tbody>\n",
       "    <tr>\n",
       "      <th>61</th>\n",
       "      <td>62</td>\n",
       "      <td>1</td>\n",
       "      <td>1</td>\n",
       "      <td>Icard, Miss. Amelie</td>\n",
       "      <td>female</td>\n",
       "      <td>38.0</td>\n",
       "      <td>0</td>\n",
       "      <td>0</td>\n",
       "      <td>113572</td>\n",
       "      <td>80.0</td>\n",
       "      <td>B28</td>\n",
       "      <td>NaN</td>\n",
       "    </tr>\n",
       "    <tr>\n",
       "      <th>829</th>\n",
       "      <td>830</td>\n",
       "      <td>1</td>\n",
       "      <td>1</td>\n",
       "      <td>Stone, Mrs. George Nelson (Martha Evelyn)</td>\n",
       "      <td>female</td>\n",
       "      <td>62.0</td>\n",
       "      <td>0</td>\n",
       "      <td>0</td>\n",
       "      <td>113572</td>\n",
       "      <td>80.0</td>\n",
       "      <td>B28</td>\n",
       "      <td>NaN</td>\n",
       "    </tr>\n",
       "  </tbody>\n",
       "</table>\n",
       "</div>"
      ],
      "text/plain": [
       "     PassengerId  Survived  Pclass                                       Name  \\\n",
       "61            62         1       1                        Icard, Miss. Amelie   \n",
       "829          830         1       1  Stone, Mrs. George Nelson (Martha Evelyn)   \n",
       "\n",
       "        Sex   Age  SibSp  Parch  Ticket  Fare Cabin Embarked  \n",
       "61   female  38.0      0      0  113572  80.0   B28      NaN  \n",
       "829  female  62.0      0      0  113572  80.0   B28      NaN  "
      ]
     },
     "execution_count": 33,
     "metadata": {},
     "output_type": "execute_result"
    }
   ],
   "source": [
    "# Answer here\n",
    "\n",
    "print('Sites of embarking:', train_data.Embarked.dropna().unique())\n",
    "\n",
    "# Let's get the mean fare by embarking place:\n",
    "mean_S = train_data.loc[train_data.Embarked == 'S'].Fare.mean()\n",
    "print(\"Mean Fare for people entering at 'S':\", mean_S)\n",
    "\n",
    "mean_C = train_data.loc[train_data.Embarked == 'C'].Fare.mean()\n",
    "print(\"Mean Fare for people entering at 'C':\",mean_C)\n",
    "\n",
    "mean_Q = train_data.loc[train_data.Embarked == 'Q'].Fare.mean()\n",
    "print(\"Mean Fare for people entering at 'Q':\", mean_Q)\n",
    "\n",
    "# Let's check which values are the most appropriate for the missing data:\n",
    "train_data[train_data.Embarked.isna()]"
   ]
  },
  {
   "cell_type": "markdown",
   "id": "eb59cf6a-7c47-494d-b0a5-4b5c35274fc1",
   "metadata": {},
   "source": [
    "Both have a Fare of '80'. Based on our imputation strategy, it seems that the most probable embarking place is 'C'."
   ]
  },
  {
   "cell_type": "code",
   "execution_count": 39,
   "id": "5ed900cf-fc5b-46e8-97fe-925962d119ef",
   "metadata": {},
   "outputs": [
    {
     "data": {
      "text/html": [
       "<div>\n",
       "<style scoped>\n",
       "    .dataframe tbody tr th:only-of-type {\n",
       "        vertical-align: middle;\n",
       "    }\n",
       "\n",
       "    .dataframe tbody tr th {\n",
       "        vertical-align: top;\n",
       "    }\n",
       "\n",
       "    .dataframe thead th {\n",
       "        text-align: right;\n",
       "    }\n",
       "</style>\n",
       "<table border=\"1\" class=\"dataframe\">\n",
       "  <thead>\n",
       "    <tr style=\"text-align: right;\">\n",
       "      <th></th>\n",
       "      <th>PassengerId</th>\n",
       "      <th>Survived</th>\n",
       "      <th>Pclass</th>\n",
       "      <th>Name</th>\n",
       "      <th>Sex</th>\n",
       "      <th>Age</th>\n",
       "      <th>SibSp</th>\n",
       "      <th>Parch</th>\n",
       "      <th>Ticket</th>\n",
       "      <th>Fare</th>\n",
       "      <th>Embarked</th>\n",
       "    </tr>\n",
       "  </thead>\n",
       "  <tbody>\n",
       "    <tr>\n",
       "      <th>61</th>\n",
       "      <td>62</td>\n",
       "      <td>1</td>\n",
       "      <td>1</td>\n",
       "      <td>Icard, Miss. Amelie</td>\n",
       "      <td>female</td>\n",
       "      <td>38.0</td>\n",
       "      <td>0</td>\n",
       "      <td>0</td>\n",
       "      <td>113572</td>\n",
       "      <td>80.0</td>\n",
       "      <td>C</td>\n",
       "    </tr>\n",
       "    <tr>\n",
       "      <th>829</th>\n",
       "      <td>830</td>\n",
       "      <td>1</td>\n",
       "      <td>1</td>\n",
       "      <td>Stone, Mrs. George Nelson (Martha Evelyn)</td>\n",
       "      <td>female</td>\n",
       "      <td>62.0</td>\n",
       "      <td>0</td>\n",
       "      <td>0</td>\n",
       "      <td>113572</td>\n",
       "      <td>80.0</td>\n",
       "      <td>C</td>\n",
       "    </tr>\n",
       "  </tbody>\n",
       "</table>\n",
       "</div>"
      ],
      "text/plain": [
       "     PassengerId  Survived  Pclass                                       Name  \\\n",
       "61            62         1       1                        Icard, Miss. Amelie   \n",
       "829          830         1       1  Stone, Mrs. George Nelson (Martha Evelyn)   \n",
       "\n",
       "        Sex   Age  SibSp  Parch  Ticket  Fare Embarked  \n",
       "61   female  38.0      0      0  113572  80.0        C  \n",
       "829  female  62.0      0      0  113572  80.0        C  "
      ]
     },
     "execution_count": 39,
     "metadata": {},
     "output_type": "execute_result"
    }
   ],
   "source": [
    "imputed_train_data['Embarked'] = imputed_train_data['Embarked'].replace(np.nan, 'C')\n",
    "imputed_train_data[train_data.Embarked.isna()]"
   ]
  },
  {
   "cell_type": "markdown",
   "id": "3c01f90a-8f3d-442c-bb60-1adef5d5313b",
   "metadata": {},
   "source": [
    "Done! \n",
    "\n",
    "**Question 6. Perhaps the previous strategy is not the best way to do this imputation. Propose a more reasonable alternative (No need to implement it).**\n"
   ]
  },
  {
   "cell_type": "markdown",
   "id": "5d46cfdd-41e8-4ca5-bbbc-8836c6714d8d",
   "metadata": {},
   "source": [
    "**Question 7. Come up with a reasonable way to impute the missing values in 'Age' and implement it.**<br>\n",
    "(Hint) Use the previous code as a template and save the resulting dataset in imputed_train_data.<br>\n",
    "(Hint) Insider information: Using the title of the persons to impute these values seems to be the best strategy. "
   ]
  },
  {
   "cell_type": "code",
   "execution_count": 45,
   "id": "043451db-e256-44c9-81ed-213c77bea22b",
   "metadata": {},
   "outputs": [
    {
     "name": "stdout",
     "output_type": "stream",
     "text": [
      "Mean Age: 32.204207968574636\n"
     ]
    },
    {
     "data": {
      "text/plain": [
       "PassengerId    0\n",
       "Survived       0\n",
       "Pclass         0\n",
       "Name           0\n",
       "Sex            0\n",
       "Age            0\n",
       "SibSp          0\n",
       "Parch          0\n",
       "Ticket         0\n",
       "Fare           0\n",
       "Embarked       0\n",
       "dtype: int64"
      ]
     },
     "execution_count": 45,
     "metadata": {},
     "output_type": "execute_result"
    }
   ],
   "source": [
    "# Answer here\n",
    "\n",
    "mean_age = train_data.Fare.mean()\n",
    "print('Mean Age:', mean_age)\n",
    "\n",
    "imputed_train_data['Age'] = imputed_train_data['Age'].replace(np.nan, mean_age)\n",
    "\n",
    "imputed_train_data.isna().sum()"
   ]
  },
  {
   "cell_type": "markdown",
   "id": "6dcd7db9-b971-4b4f-a535-a48f58445164",
   "metadata": {},
   "source": [
    "**Question 8. Impute the test set values using the same strategy.**<br>\n",
    "**Important!** Remember! use only information from your train set."
   ]
  },
  {
   "cell_type": "code",
   "execution_count": 52,
   "id": "c7dfbb9f-f8c5-4e8b-8a80-c67c644a7f2a",
   "metadata": {},
   "outputs": [
    {
     "name": "stdout",
     "output_type": "stream",
     "text": [
      "PassengerId      0\n",
      "Pclass           0\n",
      "Name             0\n",
      "Sex              0\n",
      "Age             86\n",
      "SibSp            0\n",
      "Parch            0\n",
      "Ticket           0\n",
      "Fare             1\n",
      "Cabin          327\n",
      "Embarked         0\n",
      "dtype: int64\n"
     ]
    },
    {
     "data": {
      "text/html": [
       "<div>\n",
       "<style scoped>\n",
       "    .dataframe tbody tr th:only-of-type {\n",
       "        vertical-align: middle;\n",
       "    }\n",
       "\n",
       "    .dataframe tbody tr th {\n",
       "        vertical-align: top;\n",
       "    }\n",
       "\n",
       "    .dataframe thead th {\n",
       "        text-align: right;\n",
       "    }\n",
       "</style>\n",
       "<table border=\"1\" class=\"dataframe\">\n",
       "  <thead>\n",
       "    <tr style=\"text-align: right;\">\n",
       "      <th></th>\n",
       "      <th>PassengerId</th>\n",
       "      <th>Pclass</th>\n",
       "      <th>Name</th>\n",
       "      <th>Sex</th>\n",
       "      <th>Age</th>\n",
       "      <th>SibSp</th>\n",
       "      <th>Parch</th>\n",
       "      <th>Ticket</th>\n",
       "      <th>Fare</th>\n",
       "      <th>Embarked</th>\n",
       "    </tr>\n",
       "  </thead>\n",
       "  <tbody>\n",
       "    <tr>\n",
       "      <th>152</th>\n",
       "      <td>1044</td>\n",
       "      <td>3</td>\n",
       "      <td>Storey, Mr. Thomas</td>\n",
       "      <td>male</td>\n",
       "      <td>60.5</td>\n",
       "      <td>0</td>\n",
       "      <td>0</td>\n",
       "      <td>3701</td>\n",
       "      <td>NaN</td>\n",
       "      <td>S</td>\n",
       "    </tr>\n",
       "  </tbody>\n",
       "</table>\n",
       "</div>"
      ],
      "text/plain": [
       "     PassengerId  Pclass                Name   Sex   Age  SibSp  Parch Ticket  \\\n",
       "152         1044       3  Storey, Mr. Thomas  male  60.5      0      0   3701   \n",
       "\n",
       "     Fare Embarked  \n",
       "152   NaN        S  "
      ]
     },
     "execution_count": 52,
     "metadata": {},
     "output_type": "execute_result"
    }
   ],
   "source": [
    "# Answer here\n",
    "\n",
    "print(test_data.isna().sum())\n",
    "\n",
    "imputed_test_data = test_data.drop(columns=['Cabin'])\n",
    "imputed_test_data['Age'] = imputed_test_data['Age'].replace(np.nan, mean_age)\n",
    "\n",
    "# Use info of Embarking for Fare\n",
    "imputed_test_data[imputed_test_data.Fare.isna()]"
   ]
  },
  {
   "cell_type": "code",
   "execution_count": 53,
   "id": "4bed2f7d-06f3-44aa-b4ca-a8ef3e165e82",
   "metadata": {},
   "outputs": [
    {
     "name": "stdout",
     "output_type": "stream",
     "text": [
      "\n",
      "Imputed data information:\n",
      " PassengerId    0\n",
      "Pclass         0\n",
      "Name           0\n",
      "Sex            0\n",
      "Age            0\n",
      "SibSp          0\n",
      "Parch          0\n",
      "Ticket         0\n",
      "Fare           0\n",
      "Embarked       0\n",
      "dtype: int64\n"
     ]
    }
   ],
   "source": [
    "imputed_test_data['Fare'] = imputed_test_data['Fare'].replace(np.nan, mean_S)\n",
    "print('\\nImputed data information:\\n', imputed_test_data.isna().sum())"
   ]
  },
  {
   "cell_type": "markdown",
   "id": "56a03d37-0bd0-4f14-87c5-1e2000ba81f9",
   "metadata": {},
   "source": [
    "#### 3.4. Training your Machine Learning Model\n",
    "We finally have a clean dataset with which we can work further. Before the real training, there is a final (and perhaps the most important) step to be done. We need to select the features we will use to predict!"
   ]
  },
  {
   "cell_type": "markdown",
   "id": "91cecc3d-95e5-46f5-9d65-4eee36f3edcd",
   "metadata": {},
   "source": [
    "#### 3.4.1. Feature Selection\n",
    "Which features are relevant for the task at hand? We can use a correlation map to figure this out from data:"
   ]
  },
  {
   "cell_type": "code",
   "execution_count": 58,
   "id": "29156de3-5e6d-4653-95b0-4c1d09662ca9",
   "metadata": {},
   "outputs": [
    {
     "data": {
      "text/html": [
       "<div>\n",
       "<style scoped>\n",
       "    .dataframe tbody tr th:only-of-type {\n",
       "        vertical-align: middle;\n",
       "    }\n",
       "\n",
       "    .dataframe tbody tr th {\n",
       "        vertical-align: top;\n",
       "    }\n",
       "\n",
       "    .dataframe thead th {\n",
       "        text-align: right;\n",
       "    }\n",
       "</style>\n",
       "<table border=\"1\" class=\"dataframe\">\n",
       "  <thead>\n",
       "    <tr style=\"text-align: right;\">\n",
       "      <th></th>\n",
       "      <th>PassengerId</th>\n",
       "      <th>Survived</th>\n",
       "      <th>Pclass</th>\n",
       "      <th>Age</th>\n",
       "      <th>SibSp</th>\n",
       "      <th>Parch</th>\n",
       "      <th>Fare</th>\n",
       "    </tr>\n",
       "  </thead>\n",
       "  <tbody>\n",
       "    <tr>\n",
       "      <th>PassengerId</th>\n",
       "      <td>1.000000</td>\n",
       "      <td>-0.005007</td>\n",
       "      <td>-0.035144</td>\n",
       "      <td>0.031562</td>\n",
       "      <td>-0.057527</td>\n",
       "      <td>-0.001652</td>\n",
       "      <td>0.012658</td>\n",
       "    </tr>\n",
       "    <tr>\n",
       "      <th>Survived</th>\n",
       "      <td>-0.005007</td>\n",
       "      <td>1.000000</td>\n",
       "      <td>-0.338481</td>\n",
       "      <td>-0.076673</td>\n",
       "      <td>-0.035322</td>\n",
       "      <td>0.081629</td>\n",
       "      <td>0.257307</td>\n",
       "    </tr>\n",
       "    <tr>\n",
       "      <th>Pclass</th>\n",
       "      <td>-0.035144</td>\n",
       "      <td>-0.338481</td>\n",
       "      <td>1.000000</td>\n",
       "      <td>-0.317101</td>\n",
       "      <td>0.083081</td>\n",
       "      <td>0.018443</td>\n",
       "      <td>-0.549500</td>\n",
       "    </tr>\n",
       "    <tr>\n",
       "      <th>Age</th>\n",
       "      <td>0.031562</td>\n",
       "      <td>-0.076673</td>\n",
       "      <td>-0.317101</td>\n",
       "      <td>1.000000</td>\n",
       "      <td>-0.230486</td>\n",
       "      <td>-0.188181</td>\n",
       "      <td>0.083573</td>\n",
       "    </tr>\n",
       "    <tr>\n",
       "      <th>SibSp</th>\n",
       "      <td>-0.057527</td>\n",
       "      <td>-0.035322</td>\n",
       "      <td>0.083081</td>\n",
       "      <td>-0.230486</td>\n",
       "      <td>1.000000</td>\n",
       "      <td>0.414838</td>\n",
       "      <td>0.159651</td>\n",
       "    </tr>\n",
       "    <tr>\n",
       "      <th>Parch</th>\n",
       "      <td>-0.001652</td>\n",
       "      <td>0.081629</td>\n",
       "      <td>0.018443</td>\n",
       "      <td>-0.188181</td>\n",
       "      <td>0.414838</td>\n",
       "      <td>1.000000</td>\n",
       "      <td>0.216225</td>\n",
       "    </tr>\n",
       "    <tr>\n",
       "      <th>Fare</th>\n",
       "      <td>0.012658</td>\n",
       "      <td>0.257307</td>\n",
       "      <td>-0.549500</td>\n",
       "      <td>0.083573</td>\n",
       "      <td>0.159651</td>\n",
       "      <td>0.216225</td>\n",
       "      <td>1.000000</td>\n",
       "    </tr>\n",
       "  </tbody>\n",
       "</table>\n",
       "</div>"
      ],
      "text/plain": [
       "             PassengerId  Survived    Pclass       Age     SibSp     Parch  \\\n",
       "PassengerId     1.000000 -0.005007 -0.035144  0.031562 -0.057527 -0.001652   \n",
       "Survived       -0.005007  1.000000 -0.338481 -0.076673 -0.035322  0.081629   \n",
       "Pclass         -0.035144 -0.338481  1.000000 -0.317101  0.083081  0.018443   \n",
       "Age             0.031562 -0.076673 -0.317101  1.000000 -0.230486 -0.188181   \n",
       "SibSp          -0.057527 -0.035322  0.083081 -0.230486  1.000000  0.414838   \n",
       "Parch          -0.001652  0.081629  0.018443 -0.188181  0.414838  1.000000   \n",
       "Fare            0.012658  0.257307 -0.549500  0.083573  0.159651  0.216225   \n",
       "\n",
       "                 Fare  \n",
       "PassengerId  0.012658  \n",
       "Survived     0.257307  \n",
       "Pclass      -0.549500  \n",
       "Age          0.083573  \n",
       "SibSp        0.159651  \n",
       "Parch        0.216225  \n",
       "Fare         1.000000  "
      ]
     },
     "execution_count": 58,
     "metadata": {},
     "output_type": "execute_result"
    }
   ],
   "source": [
    "imputed_train_data.corr(method='pearson')"
   ]
  },
  {
   "cell_type": "markdown",
   "id": "58aa5380-bb29-4d80-9ab3-50ea12783fa4",
   "metadata": {},
   "source": [
    "In the Survived column, we can see the correlation of Survived with the rest of the features in the dataset. But something is odd.\n",
    "\n",
    "**Question 9. What happened with the Name, Sex, Ticket, Embarked columns?**<br>\n",
    "(Hint) Use Google to figure this out."
   ]
  },
  {
   "cell_type": "raw",
   "id": "9bc6d347-f213-4050-b87c-0e85f6da96fc",
   "metadata": {},
   "source": [
    "# Answer here"
   ]
  },
  {
   "cell_type": "markdown",
   "id": "a7343be7-f357-4d3d-aa93-2b6622426626",
   "metadata": {},
   "source": [
    "**Question 10. Compute and visualize the 'correlation' between these features and Survived.**<br>\n",
    "(Hint) We have done this before ;). Note that some features, e.g., Name, must be processed further in order to obtain reasonable groups. For instance, the name of a person says nothing about he surviving. However, perhaps the Title does."
   ]
  },
  {
   "cell_type": "code",
   "execution_count": 60,
   "id": "4fb8d5a8-fbfc-4497-9755-b90ceff78346",
   "metadata": {},
   "outputs": [
    {
     "data": {
      "image/png": "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\n",
      "text/plain": [
       "<Figure size 432x288 with 1 Axes>"
      ]
     },
     "metadata": {
      "needs_background": "light"
     },
     "output_type": "display_data"
    }
   ],
   "source": [
    "# Answer here\n",
    "\n",
    "#Let's divide the passengers by Embarked. \n",
    "\n",
    "embarked_S = train_data.loc[train_data.Embarked == 'S'][\"Survived\"]\n",
    "embarked_S = embarked_S.replace(0, 'no_survived')\n",
    "embarked_S = embarked_S.replace(1, 'survived')\n",
    "\n",
    "embarked_C = train_data.loc[train_data.Embarked == 'C'][\"Survived\"]\n",
    "embarked_C = embarked_C.replace(0, 'no_survived')\n",
    "embarked_C = embarked_C.replace(1, 'survived')\n",
    "\n",
    "\n",
    "embarked_Q = train_data.loc[train_data.Embarked == 'Q'][\"Survived\"]\n",
    "embarked_Q = embarked_Q.replace(0, 'no_survived')\n",
    "embarked_Q = embarked_Q.replace(1, 'survived')\n",
    "\n",
    "# plot in a a histogram\n",
    "plt.figure()\n",
    "plt.title('Survivors w.r.t. Embarking Place')\n",
    "plt.hist([embarked_S, embarked_C, embarked_Q], align=('mid'), label=['S', 'C', 'Q'])\n",
    "plt.ylabel('Number of survivors')\n",
    "plt.legend()\n",
    "plt.show()"
   ]
  },
  {
   "cell_type": "markdown",
   "id": "eea5e46a-09d8-40b1-8fe0-a1cc9f8b23d3",
   "metadata": {},
   "source": [
    "**Question 11. Based on the insights gotten in the previous section, select the features you believe most important to predict survival.**\n",
    "\n",
    "For now, we consider the features shown below as optimal. Do note that this is not true!"
   ]
  },
  {
   "cell_type": "code",
   "execution_count": 62,
   "id": "26e67da8-3511-461b-a8f9-675a9d0c634f",
   "metadata": {},
   "outputs": [],
   "source": [
    "features = [\"Pclass\", \"Sex\", \"SibSp\", \"Parch\"]"
   ]
  },
  {
   "cell_type": "markdown",
   "id": "3959ed2c-0977-48c9-ae31-344dd8454eee",
   "metadata": {},
   "source": [
    "#### 3.4.2. Train your model.\n",
    "Now, we are finally ready to train our model. We will here use a DecisionTree and a RandomForest, as they allow us to use categorical variables as well."
   ]
  },
  {
   "cell_type": "code",
   "execution_count": 103,
   "id": "30153560-1ef6-4fd9-af96-7de805481c7e",
   "metadata": {},
   "outputs": [
    {
     "data": {
      "text/plain": [
       "RandomForestClassifier(max_depth=5, random_state=1)"
      ]
     },
     "execution_count": 103,
     "metadata": {},
     "output_type": "execute_result"
    }
   ],
   "source": [
    "from sklearn.model_selection import train_test_split\n",
    "from sklearn.ensemble import RandomForestClassifier\n",
    "from sklearn.tree import DecisionTreeClassifier\n",
    "from sklearn.metrics import ConfusionMatrixDisplay\n",
    "\n",
    "\n",
    "# 1. Split the train data into a train and validation data.\n",
    "y = train_data[\"Survived\"]\n",
    "X = pd.get_dummies(train_data[features]) #Creates dummy variables for categorical variables. Sex will be divided in 2 features: male, female. \n",
    "\n",
    "X_train, X_val, y_train, y_val = train_test_split(X, y, test_size=0.2, random_state=42) #80% for training, 20% for validation.\n",
    "\n",
    "# Decision Tree\n",
    "model_DT = DecisionTreeClassifier()\n",
    "model_DT.fit(X_train, y_train)\n",
    "\n",
    "# Random Forest\n",
    "model_RF = RandomForestClassifier(n_estimators=100, max_depth=5, random_state=1)\n",
    "model_RF.fit(X_train, y_train)\n"
   ]
  },
  {
   "cell_type": "markdown",
   "id": "9534ff79-f25c-4b2a-8cf8-43f1907aedc8",
   "metadata": {},
   "source": [
    "#### 4. Evaluate the resulting models\n",
    "\n",
    "Now we trained a model. How can we know if the model is correct? Did it overfit? How good is our model in reality? We evaluate that next. \n",
    "\n",
    "#### 4.1. Decision Trees"
   ]
  },
  {
   "cell_type": "code",
   "execution_count": 104,
   "id": "eeb6e617-4e31-4ed7-b254-e10257e32ae0",
   "metadata": {},
   "outputs": [
    {
     "name": "stdout",
     "output_type": "stream",
     "text": [
      "Accuracy\n",
      "The accuracy of the model on the training set is: 0.824438202247191\n",
      "The accuracy of the model on the validation set is: 0.7988826815642458\n"
     ]
    }
   ],
   "source": [
    "# Analyze the results on the training and validation data.\n",
    "print('Accuracy')\n",
    "train_predictions = model_DT.predict(X_train)\n",
    "acc_train = (train_predictions == y_train).sum() / len(y_train)\n",
    "print(f'The accuracy of the model on the training set is: {acc_train}')\n",
    "\n",
    "val_predictions = model_DT.predict(X_val)\n",
    "acc_val = (val_predictions == y_val).sum() / len(y_val)\n",
    "print(f'The accuracy of the model on the validation set is: {acc_val}')"
   ]
  },
  {
   "cell_type": "code",
   "execution_count": 105,
   "id": "e371f224-70f2-4e6f-93ab-a84016be6e40",
   "metadata": {},
   "outputs": [
    {
     "data": {
      "text/plain": [
       "Text(0.5, 1.0, 'Confusion Matrix (Validation Set)')"
      ]
     },
     "execution_count": 105,
     "metadata": {},
     "output_type": "execute_result"
    },
    {
     "data": {
      "image/png": "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\n",
      "text/plain": [
       "<Figure size 432x288 with 2 Axes>"
      ]
     },
     "metadata": {
      "needs_background": "light"
     },
     "output_type": "display_data"
    },
    {
     "data": {
      "image/png": "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\n",
      "text/plain": [
       "<Figure size 432x288 with 2 Axes>"
      ]
     },
     "metadata": {
      "needs_background": "light"
     },
     "output_type": "display_data"
    }
   ],
   "source": [
    "print('Confusion Matrix (Training Set)')\n",
    "ConfusionMatrixDisplay.from_estimator(model_DT, X_train, y_train, display_labels=['no_survived', 'survived'])"
    "\n",
    "print('Confusion Matrix (Validation Set)')\n",
    "ConfusionMatrixDisplay.from_estimator(model_DT, X_val, y_val, display_labels=['no_survived', 'survived'])"
   ]
  },
  {
   "cell_type": "markdown",
   "id": "c89fcb73-681a-46e0-ace3-7ebfe331390d",
   "metadata": {},
   "source": [
    "#### 4.2. Random Forest"
   ]
  },
  {
   "cell_type": "code",
   "execution_count": 106,
   "id": "be597e2a-1e78-4164-9139-4f0b80b33b66",
   "metadata": {},
   "outputs": [
    {
     "name": "stdout",
     "output_type": "stream",
     "text": [
      "Accuracy\n",
      "The accuracy of the model on the training set is: 0.8188202247191011\n",
      "The accuracy of the model on the validation set is: 0.7988826815642458\n"
     ]
    }
   ],
   "source": [
    "# Analyze the results on the training and validation data.\n",
    "print('Accuracy')\n",
    "train_predictions = model_RF.predict(X_train)\n",
    "acc_train = (train_predictions == y_train).sum() / len(y_train)\n",
    "print(f'The accuracy of the model on the training set is: {acc_train}')\n",
    "\n",
    "val_predictions = model_RF.predict(X_val)\n",
    "acc_val = (val_predictions == y_val).sum() / len(y_val)\n",
    "print(f'The accuracy of the model on the validation set is: {acc_val}')"
   ]
  },
  {
   "cell_type": "code",
   "execution_count": 107,
   "id": "203f6db7-0d37-47e0-af71-04deb4fcfd93",
   "metadata": {},
   "outputs": [
    {
     "data": {
      "text/plain": [
       "Text(0.5, 1.0, 'Confusion Matrix (Validation Set)')"
      ]
     },
     "execution_count": 107,
     "metadata": {},
     "output_type": "execute_result"
    },
    {
     "data": {
      "image/png": "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\n",
      "text/plain": [
       "<Figure size 432x288 with 2 Axes>"
      ]
     },
     "metadata": {
      "needs_background": "light"
     },
     "output_type": "display_data"
    },
    {
     "data": {
      "image/png": "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\n",
      "text/plain": [
       "<Figure size 432x288 with 2 Axes>"
      ]
     },
     "metadata": {
      "needs_background": "light"
     },
     "output_type": "display_data"
    }
   ],
   "source": [
    "print('Confusion Matrix (Training Set)')\n",
    "ConfusionMatrixDisplay.from_estimator(model_RF, X_train, y_train, display_labels=['no_survived', 'survived'])"
    "\n",
    "print('Confusion Matrix (Validation Set)')\n",
    "ConfusionMatrixDisplay.from_estimator(model_RF, X_val, y_val, display_labels=['no_survived', 'survived'])"
   ]
  },
  {
   "cell_type": "markdown",
   "id": "933e29dc-2ab6-4935-bf47-1b8426e0cfc5",
   "metadata": {},
   "source": [
    "#### 4.1. Feature Importance\n",
    "\n",
    "A cool feature of Decision Trees and Random Forests is that we can asset the importance of the features used."
   ]
  },
  {
   "cell_type": "code",
   "execution_count": 113,
   "id": "5c9d7afb-5d6d-48a2-9443-4d072e7670c3",
   "metadata": {},
   "outputs": [
    {
     "name": "stdout",
     "output_type": "stream",
     "text": [
      "Decision Tree\n",
      "     Pclass  SibSp  Parch  Sex_female  Sex_male\n",
      "331       1      0      0           0         1\n",
      "733       2      0      0           0         1\n",
      "382       3      0      0           0         1\n",
      "704       3      1      0           0         1\n",
      "813       3      4      2           1         0\n",
      "..      ...    ...    ...         ...       ...\n",
      "106       3      0      0           1         0\n",
      "270       1      0      0           0         1\n",
      "860       3      2      0           0         1\n",
      "435       1      1      2           1         0\n",
      "102       1      0      1           0         1\n",
      "\n",
      "[712 rows x 5 columns]\n",
      "[0.21822564 0.08984124 0.07513914 0.         0.61679398]\n",
      "Random Forest\n",
      "     Pclass  SibSp  Parch  Sex_female  Sex_male\n",
      "331       1      0      0           0         1\n",
      "733       2      0      0           0         1\n",
      "382       3      0      0           0         1\n",
      "704       3      1      0           0         1\n",
      "813       3      4      2           1         0\n",
      "..      ...    ...    ...         ...       ...\n",
      "106       3      0      0           1         0\n",
      "270       1      0      0           0         1\n",
      "860       3      2      0           0         1\n",
      "435       1      1      2           1         0\n",
      "102       1      0      1           0         1\n",
      "\n",
      "[712 rows x 5 columns]\n",
      "[0.20570614 0.07525491 0.07511404 0.35169772 0.29222719]\n"
     ]
    }
   ],
   "source": [
    "# These are the feature importances of each of the features used:\n",
    "\n",
    "print('Decision Tree')\n",
    "print(X_train)\n",
    "print(model_DT.feature_importances_)\n",
    "\n",
    "\n",
    "print('Random Forest')\n",
    "print(X_train)\n",
    "print(model_RF.feature_importances_)\n"
   ]
  },
  {
   "cell_type": "markdown",
   "id": "246d451d-41c2-463b-80ac-def992963392",
   "metadata": {},
   "source": [
    "**Question 12. Using the previous code, come up with a set of features and a model to classify survival as good as possible.**<br>\n",
    "(Hint) You can do this by selecting, modifying or combining features. In addition, you can play with the parameters of the model as well.<br>\n",
    "(Hint) You can use the importance of the features to select a more reasonable set of features for your model.\n",
    "(Hint) Do you want to see how the decision tree looks like? Take a look at this blog:  https://scikit-learn.org/stable/modules/tree.html\n",
    "\n",
    "**Question 13. Test! Retrain the model on the entire  training data and evaluate it on the real test set.**\n",
    "(Hint) To evaluate the code on the real test dataset, run the subsequent code. It will generate a .csv file called **my_submission.csv**. That file should be uploaded in the Kaggle page: \n",
    "https://www.kaggle.com/c/titanic/leaderboard"
   ]
  },
  {
   "cell_type": "code",
   "execution_count": 114,
   "id": "5b951972-64c5-4607-8823-14729fbfacdc",
   "metadata": {},
   "outputs": [
    {
     "name": "stdout",
     "output_type": "stream",
     "text": [
      "Your submission was successfully saved!\n"
     ]
    }
   ],
   "source": [
    "predictions = model.predict(X_test) # model should be your final model.\n",
    "\n",
    "output = pd.DataFrame({'PassengerId': test_data.PassengerId, 'Survived': predictions})\n",
    "output.to_csv('my_submission.csv', index=False)\n",
    "print(\"Your submission was successfully saved!\")"
   ]
  }
 ],
 "metadata": {
  "kernelspec": {
   "display_name": "Python 3",
   "language": "python",
   "name": "python3"
  },
  "language_info": {
   "codemirror_mode": {
    "name": "ipython",
    "version": 3
   },
   "file_extension": ".py",
   "mimetype": "text/x-python",
   "name": "python",
   "nbconvert_exporter": "python",
   "pygments_lexer": "ipython3",
   "version": "3.7.10"
  }
 },
 "nbformat": 4,
 "nbformat_minor": 5
}
